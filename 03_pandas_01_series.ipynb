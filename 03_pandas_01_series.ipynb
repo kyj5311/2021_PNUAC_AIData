{
  "nbformat": 4,
  "nbformat_minor": 0,
  "metadata": {
    "colab": {
      "name": "03_pandas_01_series.ipynb",
      "provenance": [],
      "collapsed_sections": [
        "4KcXf93NvRYF",
        "d0E16AJisWtp",
        "HfWit-RAxT3K",
        "kwW885PFyuRN",
        "NZG5FYmfzuSu",
        "cmdEnUaa06Ss",
        "JLUVMpZG3aMB",
        "Qamj0jPw6-Fl",
        "QTVb55OJ7HQx",
        "0L8-sxGe7m1d",
        "y5yftJED790Q",
        "bFXP2GytA5X_",
        "5otXQBjgCfxm"
      ],
      "toc_visible": true,
      "include_colab_link": true
    },
    "interpreter": {
      "hash": "b3ba2566441a7c06988d0923437866b63cedc61552a5af99d1f4fb67d367b25f"
    },
    "kernelspec": {
      "display_name": "Python 3.8.5 64-bit ('base': conda)",
      "name": "python3"
    },
    "language_info": {
      "name": "python",
      "version": ""
    }
  },
  "cells": [
    {
      "cell_type": "markdown",
      "metadata": {
        "id": "view-in-github",
        "colab_type": "text"
      },
      "source": [
        "<a href=\"https://colab.research.google.com/github/kyj5311/2021_PNUAC_AIData/blob/main/03_pandas_01_series.ipynb\" target=\"_parent\"><img src=\"https://colab.research.google.com/assets/colab-badge.svg\" alt=\"Open In Colab\"/></a>"
      ]
    },
    {
      "cell_type": "markdown",
      "metadata": {
        "id": "oXiH4jCRsYLt"
      },
      "source": [
        "# **pandas**\n",
        "\n",
        "\n",
        "---\n",
        "\n",
        "\n",
        "## **파이썬에서 사용하는 데이터분석 라이브러리**\n",
        " + 행과 열로 이루어진 데이터 객체를 만들어 다룰 수 있게 되며 보다 안정적으로 대용량의 데이터들을 처리하는데 매우 편리한 도구\n",
        " + NumPy를 기반으로 구축되었으며 과학 컴퓨팅 환경 내에서 다른 많은 타사 라이브러리와 잘 통합되도록 설계 \n",
        " + 많은 기능을 가진 데이터 구조\n",
        "   - 다양한 방식으로 색인된 데이터를 다룰 수 있는 기능\n",
        "   - 시계열 데이터와 비시계열 데이터를 함께 다룰 수 있는 통합 자료 구조\n",
        "   - 누락된 데이터를 유연하게 처리할 수 있는 기능\n",
        "   - SQL 같은 일반 데이터베이스처럼 데이터를 합치고 관계연산을 수행하는 기능\n",
        "\n",
        "### **pandas 자료 구조**\n",
        "* **Series**\n",
        " + 1차원 자료구조\n",
        " + index로 value를 구분하는 1차원 자료구조\n",
        "\n",
        "* **DataFrame**\n",
        " + 2차원 자료구조\n",
        " + DataFrame는 행과 열이 있는 테이블 데이터\n",
        "\n",
        "\n",
        "\n",
        "---\n",
        "\n"
      ]
    },
    {
      "cell_type": "markdown",
      "metadata": {
        "id": "4KcXf93NvRYF"
      },
      "source": [
        "\n",
        "### **pandas 라이브러리 추가**"
      ]
    },
    {
      "cell_type": "code",
      "metadata": {
        "id": "qP-hrdOdqf41"
      },
      "source": [
        "import pandas as pd"
      ],
      "execution_count": null,
      "outputs": []
    },
    {
      "cell_type": "markdown",
      "metadata": {
        "id": "LAnEv6KrS1yY"
      },
      "source": [
        "\n",
        "# **pandas Series**"
      ]
    },
    {
      "cell_type": "markdown",
      "metadata": {
        "id": "d0E16AJisWtp"
      },
      "source": [
        "### **리스트(list)를 시리즈(Series) 변경**"
      ]
    },
    {
      "cell_type": "markdown",
      "metadata": {
        "id": "qHTESQA2xuhU"
      },
      "source": [
        "#### pd.Series()"
      ]
    },
    {
      "cell_type": "code",
      "metadata": {
        "colab": {
          "base_uri": "https://localhost:8080/"
        },
        "id": "mlr1tureqzcQ",
        "outputId": "a75bce74-2382-408d-92d0-96d8fdda03a8"
      },
      "source": [
        "lt = [4.1, 5.5, 9.0, 15.0, 19.0 ,21.3]\n",
        "slt = pd.Series(lt)\n",
        "print(slt)\n",
        "print(type(slt))"
      ],
      "execution_count": null,
      "outputs": [
        {
          "output_type": "stream",
          "text": [
            "0     4.1\n",
            "1     5.5\n",
            "2     9.0\n",
            "3    15.0\n",
            "4    19.0\n",
            "5    21.3\n",
            "dtype: float64\n",
            "<class 'pandas.core.series.Series'>\n"
          ],
          "name": "stdout"
        }
      ]
    },
    {
      "cell_type": "code",
      "metadata": {
        "colab": {
          "base_uri": "https://localhost:8080/"
        },
        "id": "0g85AdHaU8bb",
        "outputId": "d6041b60-d201-4878-a035-c9ea3b06796a"
      },
      "source": [
        "#시리즈의 3번째 요소가져오기\n",
        "print(slt[2])"
      ],
      "execution_count": null,
      "outputs": [
        {
          "output_type": "stream",
          "text": [
            "9.0\n"
          ],
          "name": "stdout"
        }
      ]
    },
    {
      "cell_type": "markdown",
      "metadata": {
        "id": "HZY2L540yCin"
      },
      "source": [
        "#### 리스트를 변경한 series index, values"
      ]
    },
    {
      "cell_type": "code",
      "metadata": {
        "colab": {
          "base_uri": "https://localhost:8080/"
        },
        "id": "bGHqaUmHr7Cr",
        "outputId": "7029a7b6-03a8-4476-965e-2bd28d18bd23"
      },
      "source": [
        "#시리즈 인덱스, 키, 값 출력\n",
        "print('index :', slt.index)\n",
        "print('index :', slt.keys())\n",
        "print('value :', slt.values)\n",
        " "
      ],
      "execution_count": null,
      "outputs": [
        {
          "output_type": "stream",
          "text": [
            "index : RangeIndex(start=0, stop=6, step=1)\n",
            "index : RangeIndex(start=0, stop=6, step=1)\n",
            "value : [ 4.1  5.5  9.  15.  19.  21.3]\n"
          ],
          "name": "stdout"
        }
      ]
    },
    {
      "cell_type": "markdown",
      "metadata": {
        "id": "HfWit-RAxT3K"
      },
      "source": [
        "### **딕션너리(dictionary)를 시리즈(Series)로 변경**"
      ]
    },
    {
      "cell_type": "markdown",
      "metadata": {
        "id": "kwW885PFyuRN"
      },
      "source": [
        "#### pd.Series()"
      ]
    },
    {
      "cell_type": "code",
      "metadata": {
        "colab": {
          "base_uri": "https://localhost:8080/"
        },
        "id": "Onsmw6rNq-IJ",
        "outputId": "52baf691-3497-4b9e-f17f-eb64e23cd0ca"
      },
      "source": [
        "#dataframe -> series\n",
        "dt = {'1월':4.1, '2월':5.5, '3월':9.0, '4월':15.0, '5월':19.0 ,'6월':21.3}\n",
        "sdt = pd.Series(dt)\n",
        "print(sdt)"
      ],
      "execution_count": null,
      "outputs": [
        {
          "output_type": "stream",
          "text": [
            "1월     4.1\n",
            "2월     5.5\n",
            "3월     9.0\n",
            "4월    15.0\n",
            "5월    19.0\n",
            "6월    21.3\n",
            "dtype: float64\n"
          ],
          "name": "stdout"
        }
      ]
    },
    {
      "cell_type": "markdown",
      "metadata": {
        "id": "TnDYv6kRzETr"
      },
      "source": [
        "#### 딕션너리를 변경한 series index, **values**"
      ]
    },
    {
      "cell_type": "code",
      "metadata": {
        "colab": {
          "base_uri": "https://localhost:8080/"
        },
        "id": "uJ0Ys_lmrNMM",
        "outputId": "2acb1edc-9434-43d8-971d-5cca1ed1194d"
      },
      "source": [
        "print('index :', sdt.index)\n",
        "print('index :', sdt.keys())\n",
        "print('value :', sdt.values)"
      ],
      "execution_count": null,
      "outputs": [
        {
          "output_type": "stream",
          "text": [
            "index : Index(['1월', '2월', '3월', '4월', '5월', '6월'], dtype='object')\n",
            "index : Index(['1월', '2월', '3월', '4월', '5월', '6월'], dtype='object')\n",
            "value : [ 4.1  5.5  9.  15.  19.  21.3]\n"
          ],
          "name": "stdout"
        }
      ]
    },
    {
      "cell_type": "code",
      "metadata": {
        "colab": {
          "base_uri": "https://localhost:8080/"
        },
        "id": "cf3sRuL5Vkkl",
        "outputId": "9e8ab065-3458-41db-f965-48eeebc7aadc"
      },
      "source": [
        "#3월의 값 가져오기\n",
        "sdt['3월']"
      ],
      "execution_count": null,
      "outputs": [
        {
          "output_type": "execute_result",
          "data": {
            "text/plain": [
              "9.0"
            ]
          },
          "metadata": {
            "tags": []
          },
          "execution_count": 88
        }
      ]
    },
    {
      "cell_type": "markdown",
      "metadata": {
        "id": "NZG5FYmfzuSu"
      },
      "source": [
        "### **시리즈(Series) 인덱스(index) 변경하기**"
      ]
    },
    {
      "cell_type": "code",
      "metadata": {
        "id": "UhzAl0UL0ArX"
      },
      "source": [
        "ltk = ['1월', '2월', '3월', '4월', '5월', '6월']\n",
        "lt = [4.1, 5.5, 9.0, 15.0, 19.0 ,21.3]"
      ],
      "execution_count": null,
      "outputs": []
    },
    {
      "cell_type": "markdown",
      "metadata": {
        "id": "6nOM0uocz86W"
      },
      "source": [
        "#### 생성시 변경하기"
      ]
    },
    {
      "cell_type": "code",
      "metadata": {
        "colab": {
          "base_uri": "https://localhost:8080/"
        },
        "id": "RA3ULdcCz6as",
        "outputId": "6b7d8875-8058-41ec-86cf-d474726e8a0b"
      },
      "source": [
        "#시리즈 생성시 인덱스값 설정하기\n",
        "slt = pd.Series(lt, index=ltk)\n",
        "print(slt)"
      ],
      "execution_count": null,
      "outputs": [
        {
          "output_type": "stream",
          "text": [
            "1월     4.1\n",
            "2월     5.5\n",
            "3월     9.0\n",
            "4월    15.0\n",
            "5월    19.0\n",
            "6월    21.3\n",
            "dtype: float64\n"
          ],
          "name": "stdout"
        }
      ]
    },
    {
      "cell_type": "markdown",
      "metadata": {
        "id": "_jbh2QZY0dYl"
      },
      "source": [
        "#### 생성후 변경하기\n"
      ]
    },
    {
      "cell_type": "code",
      "metadata": {
        "colab": {
          "base_uri": "https://localhost:8080/"
        },
        "id": "KZi4b37y0q8z",
        "outputId": "075dd1a2-df43-4a73-fefe-d50e5581569b"
      },
      "source": [
        "#시리즈 생성시 인덱스없이 생성\n",
        "slt = pd.Series(lt, index=ltk)\n",
        "print(slt)\n",
        "\n"
      ],
      "execution_count": null,
      "outputs": [
        {
          "output_type": "stream",
          "text": [
            "1월     4.1\n",
            "2월     5.5\n",
            "3월     9.0\n",
            "4월    15.0\n",
            "5월    19.0\n",
            "6월    21.3\n",
            "dtype: float64\n"
          ],
          "name": "stdout"
        }
      ]
    },
    {
      "cell_type": "code",
      "metadata": {
        "colab": {
          "base_uri": "https://localhost:8080/"
        },
        "id": "NkWLof75WFhu",
        "outputId": "cfa1873c-9817-4b67-f708-38c4ea9f3d25"
      },
      "source": [
        "slt.index"
      ],
      "execution_count": null,
      "outputs": [
        {
          "output_type": "execute_result",
          "data": {
            "text/plain": [
              "Index(['1월', '2월', '3월', '4월', '5월', '6월'], dtype='object')"
            ]
          },
          "metadata": {
            "tags": []
          },
          "execution_count": 95
        }
      ]
    },
    {
      "cell_type": "code",
      "metadata": {
        "colab": {
          "base_uri": "https://localhost:8080/"
        },
        "id": "PLjO-A_IWEM0",
        "outputId": "3a55e2b7-6de2-4a28-818e-0841b119099e"
      },
      "source": [
        "#시리즈 인덱스 변경\n",
        "slt.index = ltk\n",
        "print(slt)"
      ],
      "execution_count": null,
      "outputs": [
        {
          "output_type": "stream",
          "text": [
            "1월     4.1\n",
            "2월     5.5\n",
            "3월     9.0\n",
            "4월    15.0\n",
            "5월    19.0\n",
            "6월    21.3\n",
            "dtype: float64\n"
          ],
          "name": "stdout"
        }
      ]
    },
    {
      "cell_type": "markdown",
      "metadata": {
        "id": "cmdEnUaa06Ss"
      },
      "source": [
        "### **시리즈(Series) 인덱싱(indexing)**\n",
        "* 인덱스를 가지고 시리즈에서 특정 항목 추출\n",
        "\n"
      ]
    },
    {
      "cell_type": "code",
      "metadata": {
        "colab": {
          "base_uri": "https://localhost:8080/"
        },
        "id": "TUaFgVms1Pgm",
        "outputId": "3c378190-d650-4196-a123-f7305be51bf1"
      },
      "source": [
        "ltk = ['1월', '2월', '3월', '4월', '5월', '6월']\n",
        "lt = [4.1, 5.5, 9.0, 15.0, 19.0 ,21.3]\n",
        "slt = pd.Series(lt)\n",
        "slt2 = pd.Series(lt, index=ltk)\n",
        "print(slt)\n",
        "print(slt2)"
      ],
      "execution_count": null,
      "outputs": [
        {
          "output_type": "stream",
          "text": [
            "0     4.1\n",
            "1     5.5\n",
            "2     9.0\n",
            "3    15.0\n",
            "4    19.0\n",
            "5    21.3\n",
            "dtype: float64\n",
            "1월     4.1\n",
            "2월     5.5\n",
            "3월     9.0\n",
            "4월    15.0\n",
            "5월    19.0\n",
            "6월    21.3\n",
            "dtype: float64\n"
          ],
          "name": "stdout"
        }
      ]
    },
    {
      "cell_type": "code",
      "metadata": {
        "colab": {
          "base_uri": "https://localhost:8080/"
        },
        "id": "kxa270nt3Hga",
        "outputId": "25e01bf6-5b36-4e3e-ba43-f219610678c2"
      },
      "source": [
        "#slt 시리즈에서 인덱스가 2인 항목 값 가져오기\n",
        "slt[2]"
      ],
      "execution_count": null,
      "outputs": [
        {
          "output_type": "execute_result",
          "data": {
            "text/plain": [
              "9.0"
            ]
          },
          "metadata": {
            "tags": []
          },
          "execution_count": 97
        }
      ]
    },
    {
      "cell_type": "code",
      "metadata": {
        "colab": {
          "base_uri": "https://localhost:8080/"
        },
        "id": "3TF_1-Ny3NGW",
        "outputId": "7cb4318d-19bb-4907-cf59-0fa8b330f064"
      },
      "source": [
        "#slt2 시리즈에서 3월의 값가져오기\n",
        "slt2['3월']"
      ],
      "execution_count": null,
      "outputs": [
        {
          "output_type": "execute_result",
          "data": {
            "text/plain": [
              "9.0"
            ]
          },
          "metadata": {
            "tags": []
          },
          "execution_count": 98
        }
      ]
    },
    {
      "cell_type": "markdown",
      "metadata": {
        "id": "JLUVMpZG3aMB"
      },
      "source": [
        "### **시리즈(Series) 슬라이싱(Slicing)**\n",
        "* 시리즈 일부를 추출하여 시리즈로 반환\n",
        "* 콜론(;), 쉼표(,) 사용\n",
        "* 조건 사용"
      ]
    },
    {
      "cell_type": "markdown",
      "metadata": {
        "id": "Qamj0jPw6-Fl"
      },
      "source": [
        "#### 콜론(:), 쉼표(,) 사용"
      ]
    },
    {
      "cell_type": "code",
      "metadata": {
        "colab": {
          "base_uri": "https://localhost:8080/"
        },
        "id": "8hx190om36xv",
        "outputId": "89b5610b-afe8-4253-a1cd-1e4aad6e4e52"
      },
      "source": [
        "#인덱스가 1에서 2인 자료 추출\n",
        "sub1 = slt[1:3]\n",
        "print(sub1)"
      ],
      "execution_count": null,
      "outputs": [
        {
          "output_type": "stream",
          "text": [
            "1    5.5\n",
            "2    9.0\n",
            "dtype: float64\n"
          ],
          "name": "stdout"
        }
      ]
    },
    {
      "cell_type": "code",
      "metadata": {
        "colab": {
          "base_uri": "https://localhost:8080/"
        },
        "id": "J1rp78tW4fwV",
        "outputId": "5affc4c0-0c2b-4875-c949-a1e002f8eb11"
      },
      "source": [
        "#인덱스가 1월에서 3월인 자료 추출\n",
        "sub2 = slt2['1월' : '3월']\n",
        "print(sub2)"
      ],
      "execution_count": null,
      "outputs": [
        {
          "output_type": "stream",
          "text": [
            "1월    4.1\n",
            "2월    5.5\n",
            "3월    9.0\n",
            "dtype: float64\n"
          ],
          "name": "stdout"
        }
      ]
    },
    {
      "cell_type": "code",
      "metadata": {
        "colab": {
          "base_uri": "https://localhost:8080/"
        },
        "id": "Xl4j7Xtu4pZL",
        "outputId": "f6533761-4cd3-4f38-bf7e-54f44ae5fc12"
      },
      "source": [
        "#인덱스가 1,3,5인 자료 추출\n",
        "sub1_1 = slt[[1,3,5]]\n",
        "print(sub1_1)"
      ],
      "execution_count": null,
      "outputs": [
        {
          "output_type": "stream",
          "text": [
            "1     5.5\n",
            "3    15.0\n",
            "5    21.3\n",
            "dtype: float64\n"
          ],
          "name": "stdout"
        }
      ]
    },
    {
      "cell_type": "code",
      "metadata": {
        "colab": {
          "base_uri": "https://localhost:8080/"
        },
        "id": "OvrbFhUf5AVQ",
        "outputId": "3519fb81-3aa3-4d59-871f-1cc579b8183c"
      },
      "source": [
        "##인덱스가 2월,4월, 6월인 자료 추출\n",
        "sub2_1 = slt2[['2월','4월','6월']]\n",
        "print(sub2_1)"
      ],
      "execution_count": null,
      "outputs": [
        {
          "output_type": "stream",
          "text": [
            "2월     5.5\n",
            "4월    15.0\n",
            "6월    21.3\n",
            "dtype: float64\n"
          ],
          "name": "stdout"
        }
      ]
    },
    {
      "cell_type": "markdown",
      "metadata": {
        "id": "QTVb55OJ7HQx"
      },
      "source": [
        "#### 조건 사용"
      ]
    },
    {
      "cell_type": "code",
      "metadata": {
        "colab": {
          "base_uri": "https://localhost:8080/"
        },
        "id": "D2bcfzGj7J6a",
        "outputId": "dfd5b554-6266-4f7c-ae36-7b133b6ce6a4"
      },
      "source": [
        "print(slt)"
      ],
      "execution_count": null,
      "outputs": [
        {
          "output_type": "stream",
          "text": [
            "0     4.1\n",
            "1     5.5\n",
            "2     9.0\n",
            "3    15.0\n",
            "4    19.0\n",
            "5    21.3\n",
            "dtype: float64\n"
          ],
          "name": "stdout"
        }
      ]
    },
    {
      "cell_type": "code",
      "metadata": {
        "colab": {
          "base_uri": "https://localhost:8080/"
        },
        "id": "qqz0ga8w7TLf",
        "outputId": "08b83634-0082-4fb3-c6df-96e20e58c4df"
      },
      "source": [
        "slt > 10"
      ],
      "execution_count": null,
      "outputs": [
        {
          "output_type": "execute_result",
          "data": {
            "text/plain": [
              "0    False\n",
              "1    False\n",
              "2    False\n",
              "3     True\n",
              "4     True\n",
              "5     True\n",
              "dtype: bool"
            ]
          },
          "metadata": {
            "tags": []
          },
          "execution_count": 105
        }
      ]
    },
    {
      "cell_type": "code",
      "metadata": {
        "colab": {
          "base_uri": "https://localhost:8080/"
        },
        "id": "IdMbByTM7fBM",
        "outputId": "67b60ddc-b214-41f7-e08f-9ee12435186d"
      },
      "source": [
        "#값이 10보다 큰 자료 추출1\n",
        "slt[slt>10]"
      ],
      "execution_count": null,
      "outputs": [
        {
          "output_type": "execute_result",
          "data": {
            "text/plain": [
              "3    15.0\n",
              "4    19.0\n",
              "5    21.3\n",
              "dtype: float64"
            ]
          },
          "metadata": {
            "tags": []
          },
          "execution_count": 106
        }
      ]
    },
    {
      "cell_type": "code",
      "metadata": {
        "colab": {
          "base_uri": "https://localhost:8080/"
        },
        "id": "R1QgLNEW7iOu",
        "outputId": "0ac158e2-b872-4e3f-e7d8-f331896f6553"
      },
      "source": [
        "#값이 10보다 큰 자료 추출2\n",
        "slt[slt.values>10]"
      ],
      "execution_count": null,
      "outputs": [
        {
          "output_type": "execute_result",
          "data": {
            "text/plain": [
              "3    15.0\n",
              "4    19.0\n",
              "5    21.3\n",
              "dtype: float64"
            ]
          },
          "metadata": {
            "tags": []
          },
          "execution_count": 107
        }
      ]
    },
    {
      "cell_type": "code",
      "metadata": {
        "colab": {
          "base_uri": "https://localhost:8080/"
        },
        "id": "w_DB2GG07tLZ",
        "outputId": "9a49d00e-1dd1-44d2-980d-b9f3aec41820"
      },
      "source": [
        "#인덱스가 3보다 크거나 같은 자료 추출\n",
        "slt[slt.index>=3]"
      ],
      "execution_count": null,
      "outputs": [
        {
          "output_type": "execute_result",
          "data": {
            "text/plain": [
              "3    15.0\n",
              "4    19.0\n",
              "5    21.3\n",
              "dtype: float64"
            ]
          },
          "metadata": {
            "tags": []
          },
          "execution_count": 108
        }
      ]
    },
    {
      "cell_type": "markdown",
      "metadata": {
        "id": "0L8-sxGe7m1d"
      },
      "source": [
        "### **시리즈(Series) 연산**\n",
        "* 시리즈(Series) 길이가 같고 인덱스가 같은 것끼리 연산\n",
        " + 더하기(+) : 각 값 더하기 \n",
        " + 곱하기(*) : 각 값 곱하기"
      ]
    },
    {
      "cell_type": "code",
      "metadata": {
        "colab": {
          "base_uri": "https://localhost:8080/"
        },
        "id": "YEPD_XXT8gMP",
        "outputId": "2f4f7691-a1bb-47dc-aa2b-b4b5bcf9b86e"
      },
      "source": [
        "print(slt)\n",
        "print(slt2)"
      ],
      "execution_count": null,
      "outputs": [
        {
          "output_type": "stream",
          "text": [
            "0     4.1\n",
            "1     5.5\n",
            "2     9.0\n",
            "3    15.0\n",
            "4    19.0\n",
            "5    21.3\n",
            "dtype: float64\n",
            "1월     4.1\n",
            "2월     5.5\n",
            "3월     9.0\n",
            "4월    15.0\n",
            "5월    19.0\n",
            "6월    21.3\n",
            "dtype: float64\n"
          ],
          "name": "stdout"
        }
      ]
    },
    {
      "cell_type": "code",
      "metadata": {
        "colab": {
          "base_uri": "https://localhost:8080/"
        },
        "id": "y766JEqK8rf-",
        "outputId": "26beb616-582a-432b-a86b-d36011d51979"
      },
      "source": [
        "#인덱스가 다른 경우\n",
        "print(slt + slt2)"
      ],
      "execution_count": null,
      "outputs": [
        {
          "output_type": "stream",
          "text": [
            "0    NaN\n",
            "1    NaN\n",
            "2    NaN\n",
            "3    NaN\n",
            "4    NaN\n",
            "5    NaN\n",
            "1월   NaN\n",
            "2월   NaN\n",
            "3월   NaN\n",
            "4월   NaN\n",
            "5월   NaN\n",
            "6월   NaN\n",
            "dtype: float64\n"
          ],
          "name": "stdout"
        }
      ]
    },
    {
      "cell_type": "code",
      "metadata": {
        "colab": {
          "base_uri": "https://localhost:8080/"
        },
        "id": "j5VSvPbK84Vz",
        "outputId": "eee11c48-24ab-41c1-9c1f-f3466234d27a"
      },
      "source": [
        "slt.index = slt2.index\n",
        "print(slt)\n",
        "print(slt2)"
      ],
      "execution_count": null,
      "outputs": [
        {
          "output_type": "stream",
          "text": [
            "1월     4.1\n",
            "2월     5.5\n",
            "3월     9.0\n",
            "4월    15.0\n",
            "5월    19.0\n",
            "6월    21.3\n",
            "dtype: float64\n",
            "1월     4.1\n",
            "2월     5.5\n",
            "3월     9.0\n",
            "4월    15.0\n",
            "5월    19.0\n",
            "6월    21.3\n",
            "dtype: float64\n"
          ],
          "name": "stdout"
        }
      ]
    },
    {
      "cell_type": "code",
      "metadata": {
        "colab": {
          "base_uri": "https://localhost:8080/"
        },
        "id": "m4hMGiJc9FJT",
        "outputId": "ca8e6ac3-f5d2-4bc2-882c-cdbd9e0e17b6"
      },
      "source": [
        "#인덱스가 같은 경우\n",
        "print(slt + slt2)\n",
        "print(slt * slt2)"
      ],
      "execution_count": null,
      "outputs": [
        {
          "output_type": "stream",
          "text": [
            "1월     8.2\n",
            "2월    11.0\n",
            "3월    18.0\n",
            "4월    30.0\n",
            "5월    38.0\n",
            "6월    42.6\n",
            "dtype: float64\n",
            "1월     16.81\n",
            "2월     30.25\n",
            "3월     81.00\n",
            "4월    225.00\n",
            "5월    361.00\n",
            "6월    453.69\n",
            "dtype: float64\n"
          ],
          "name": "stdout"
        }
      ]
    },
    {
      "cell_type": "markdown",
      "metadata": {
        "id": "y5yftJED790Q"
      },
      "source": [
        "### **시리즈(Series) 기본 조회와 기초 통계 메소드**\n",
        "* head(n) : 상위 n개 조회, n생략 시 5개 조회\n",
        "+ tail(n) : 하위 n개 조회, n생략 시 5개 조회\n",
        "+ describe() : 요약 통계량 계산\n",
        "+ mean() : 평균\n",
        "+ max() : 최대\n",
        "+ min() : 최소\n",
        "+ std()  : 표준편차"
      ]
    },
    {
      "cell_type": "code",
      "metadata": {
        "colab": {
          "base_uri": "https://localhost:8080/"
        },
        "id": "FpFqpash-KEK",
        "outputId": "12f5a02e-a68b-47bf-df5e-4f4a8efdb4ae"
      },
      "source": [
        "print(slt)"
      ],
      "execution_count": null,
      "outputs": [
        {
          "output_type": "stream",
          "text": [
            "0     4.1\n",
            "1     5.5\n",
            "2     9.0\n",
            "3    15.0\n",
            "4    19.0\n",
            "5    21.3\n",
            "dtype: float64\n"
          ],
          "name": "stdout"
        }
      ]
    },
    {
      "cell_type": "code",
      "metadata": {
        "colab": {
          "base_uri": "https://localhost:8080/"
        },
        "id": "wJEKOJSAAEaC",
        "outputId": "c5b7096e-1d08-40f2-d143-f94b0ae74d47"
      },
      "source": [
        "#상위 5개 자료 추출\n",
        "slt.head()"
      ],
      "execution_count": null,
      "outputs": [
        {
          "output_type": "execute_result",
          "data": {
            "text/plain": [
              "0     4.1\n",
              "1     5.5\n",
              "2     9.0\n",
              "3    15.0\n",
              "4    19.0\n",
              "dtype: float64"
            ]
          },
          "metadata": {
            "tags": []
          },
          "execution_count": 111
        }
      ]
    },
    {
      "cell_type": "code",
      "metadata": {
        "colab": {
          "base_uri": "https://localhost:8080/"
        },
        "id": "luZHKfrSAKB6",
        "outputId": "3ac50920-496b-49b4-8e11-f4f65386a73c"
      },
      "source": [
        "#하위 5ㅎ2개 자료 추출\n",
        "slt.tail(2)"
      ],
      "execution_count": null,
      "outputs": [
        {
          "output_type": "execute_result",
          "data": {
            "text/plain": [
              "4    19.0\n",
              "5    21.3\n",
              "dtype: float64"
            ]
          },
          "metadata": {
            "tags": []
          },
          "execution_count": 112
        }
      ]
    },
    {
      "cell_type": "code",
      "metadata": {
        "colab": {
          "base_uri": "https://localhost:8080/"
        },
        "id": "1ayZWyLjAMFG",
        "outputId": "f82f4247-34df-446b-9585-0f14d3a4256d"
      },
      "source": [
        "#시리즈 통계 요약\n",
        "slt.describe()"
      ],
      "execution_count": null,
      "outputs": [
        {
          "output_type": "execute_result",
          "data": {
            "text/plain": [
              "count     6.000000\n",
              "mean     12.316667\n",
              "std       7.177024\n",
              "min       4.100000\n",
              "25%       6.375000\n",
              "50%      12.000000\n",
              "75%      18.000000\n",
              "max      21.300000\n",
              "dtype: float64"
            ]
          },
          "metadata": {
            "tags": []
          },
          "execution_count": 113
        }
      ]
    },
    {
      "cell_type": "code",
      "metadata": {
        "colab": {
          "base_uri": "https://localhost:8080/"
        },
        "id": "UWIUKzfKAPpE",
        "outputId": "1dff300d-cf81-46ac-8cba-bf9728f8af23"
      },
      "source": [
        "#시리즈 값 평균\n",
        "slt.mean()"
      ],
      "execution_count": null,
      "outputs": [
        {
          "output_type": "execute_result",
          "data": {
            "text/plain": [
              "12.316666666666668"
            ]
          },
          "metadata": {
            "tags": []
          },
          "execution_count": 114
        }
      ]
    },
    {
      "cell_type": "markdown",
      "metadata": {
        "id": "bFXP2GytA5X_"
      },
      "source": [
        "### **자주 사용되는 메소드**\n",
        "+ equals() : 시리즈와 시리즈가 같은지 비교, 키와 값이 모두 같아야 함\n",
        "+ replace() : 특정값을 가진 요소 값을 변경\n",
        "+ isin() : 시리즈에 포함된 값이 있는지 확인\n",
        "+ drop_duplicates() : 중복값이 없는 시리즈 반환\n",
        "+ append() : 2개이상의 시리즈 연결\n",
        "+ sort_index(ascending=True) : 인덱스로 정렬\n",
        "+ sort_values(ascending=False) : 값으로 정렬\n",
        "+ to_frame() : 시리즈를 데이터프레임으로 변경"
      ]
    },
    {
      "cell_type": "code",
      "metadata": {
        "id": "BXjfGW9nBeXU"
      },
      "source": [
        "dt = {'1월':4.1, '2월':5.5, '3월':9.0, '4월':15.0, '5월':19.0 ,'6월':21.3}\n",
        "sdt1 = pd.Series(dt)  \n",
        "sdt2 = pd.Series(dt.values()) "
      ],
      "execution_count": null,
      "outputs": []
    },
    {
      "cell_type": "code",
      "metadata": {
        "colab": {
          "base_uri": "https://localhost:8080/"
        },
        "id": "V10QK33cBs69",
        "outputId": "d6d34b6a-d474-43a1-862f-af3b2f14d1af"
      },
      "source": [
        "print('[시리즈1]')\n",
        "print(sdt1)\n",
        "print('[시리즈2]')\n",
        "print(sdt2) "
      ],
      "execution_count": null,
      "outputs": [
        {
          "output_type": "stream",
          "text": [
            "[시리즈1]\n",
            "1월     4.1\n",
            "2월     5.5\n",
            "3월     9.0\n",
            "4월    15.0\n",
            "5월    19.0\n",
            "6월    21.3\n",
            "dtype: float64\n",
            "[시리즈2]\n",
            "0     4.1\n",
            "1     5.5\n",
            "2     9.0\n",
            "3    15.0\n",
            "4    19.0\n",
            "5    21.3\n",
            "dtype: float64\n"
          ],
          "name": "stdout"
        }
      ]
    },
    {
      "cell_type": "code",
      "metadata": {
        "colab": {
          "base_uri": "https://localhost:8080/"
        },
        "id": "gFzdso_OB0Wf",
        "outputId": "da5a9572-255d-4e9c-8e02-bcd9f3318c49"
      },
      "source": [
        "print('비교 :', sdt1.equals(sdt2))"
      ],
      "execution_count": null,
      "outputs": [
        {
          "output_type": "stream",
          "text": [
            "비교 : False\n"
          ],
          "name": "stdout"
        }
      ]
    },
    {
      "cell_type": "code",
      "metadata": {
        "colab": {
          "base_uri": "https://localhost:8080/"
        },
        "id": "Im4my3opB5LV",
        "outputId": "9a15bf7b-7862-4562-a7fa-2ecad397ec16"
      },
      "source": [
        "print('변경 :')\n",
        "\n",
        "#5.5 값을 15로 변경\n",
        "sdt1 = sdt1.replace(5.5, 15)\n",
        "\n",
        "print(sdt1)"
      ],
      "execution_count": null,
      "outputs": [
        {
          "output_type": "stream",
          "text": [
            "변경 :\n",
            "1월     4.1\n",
            "2월    15.0\n",
            "3월     9.0\n",
            "4월    15.0\n",
            "5월    19.0\n",
            "6월    21.3\n",
            "dtype: float64\n"
          ],
          "name": "stdout"
        }
      ]
    },
    {
      "cell_type": "code",
      "metadata": {
        "colab": {
          "base_uri": "https://localhost:8080/"
        },
        "id": "AsiPDZ29YjQc",
        "outputId": "b841887a-969e-4184-9307-97e4716b2dbd"
      },
      "source": [
        "sdt1 = sdt1.replace(15, 15.5)\n",
        "print(sdt1)"
      ],
      "execution_count": null,
      "outputs": [
        {
          "output_type": "stream",
          "text": [
            "1월     4.1\n",
            "2월    15.5\n",
            "3월     9.0\n",
            "4월    15.5\n",
            "5월    19.0\n",
            "6월    21.3\n",
            "dtype: float64\n"
          ],
          "name": "stdout"
        }
      ]
    },
    {
      "cell_type": "code",
      "metadata": {
        "colab": {
          "base_uri": "https://localhost:8080/"
        },
        "id": "F1480C2SB8Mr",
        "outputId": "0b8e9aa1-4924-4c67-ce3d-8a1ce330ea6e"
      },
      "source": [
        "print('포함:')\n",
        "#값을 15.5, 9.0을 가지는 자료 추출\n",
        "print(sdt1[sdt1.isin([15.5, 9.0])])"
      ],
      "execution_count": null,
      "outputs": [
        {
          "output_type": "stream",
          "text": [
            "포함:\n",
            "3월    9.0\n",
            "dtype: float64\n"
          ],
          "name": "stdout"
        }
      ]
    },
    {
      "cell_type": "code",
      "metadata": {
        "colab": {
          "base_uri": "https://localhost:8080/"
        },
        "id": "W8wfvcNrCC5E",
        "outputId": "414c60e1-0ba6-427b-f21f-bbff5db64367"
      },
      "source": [
        "print('중복제거:')\n",
        "print(sdt1.drop_duplicates()) \n",
        "print('중복제거반영확인:')\n",
        "#중복제거하여 시리즈에 반영\n",
        "sdt1=sdt1.drop_duplicates()\n",
        "print(sdt1)"
      ],
      "execution_count": null,
      "outputs": [
        {
          "output_type": "stream",
          "text": [
            "중복제거:\n",
            "1월     4.1\n",
            "2월    15.0\n",
            "3월     9.0\n",
            "5월    19.0\n",
            "6월    21.3\n",
            "dtype: float64\n",
            "중복제거반영확인:\n",
            "1월     4.1\n",
            "2월    15.0\n",
            "3월     9.0\n",
            "5월    19.0\n",
            "6월    21.3\n",
            "dtype: float64\n"
          ],
          "name": "stdout"
        }
      ]
    },
    {
      "cell_type": "code",
      "metadata": {
        "colab": {
          "base_uri": "https://localhost:8080/"
        },
        "id": "Qdy9gcQUCHA0",
        "outputId": "2e67294d-1656-46c8-ddf2-051c6a79ce3f"
      },
      "source": [
        "#시리즈 연결하기\n",
        "print('연결:')\n",
        "print(sdt1.append(sdt2))\n"
      ],
      "execution_count": null,
      "outputs": [
        {
          "output_type": "stream",
          "text": [
            "연결:\n",
            "1월     4.1\n",
            "2월    15.0\n",
            "3월     9.0\n",
            "5월    19.0\n",
            "6월    21.3\n",
            "0      4.1\n",
            "1      5.5\n",
            "2      9.0\n",
            "3     15.0\n",
            "4     19.0\n",
            "5     21.3\n",
            "dtype: float64\n"
          ],
          "name": "stdout"
        }
      ]
    },
    {
      "cell_type": "code",
      "metadata": {
        "colab": {
          "base_uri": "https://localhost:8080/"
        },
        "id": "JlO85hlmCKEz",
        "outputId": "9b8067b7-6b13-4189-a517-0becc00e0da3"
      },
      "source": [
        "print('정렬(값):')\n",
        "#시리즈 값으로 정렬하기\n",
        "print(sdt1.sort_values(ascending=False))\n",
        "print('정렬(인덱스):')\n",
        "print(sdt1.sort_index(ascending=False))\n",
        "#시리즈 인덱스로 역순으로 정렬하기"
      ],
      "execution_count": null,
      "outputs": [
        {
          "output_type": "stream",
          "text": [
            "정렬(값):\n",
            "6월    21.3\n",
            "5월    19.0\n",
            "2월    15.0\n",
            "3월     9.0\n",
            "1월     4.1\n",
            "dtype: float64\n",
            "정렬(인덱스):\n",
            "6월    21.3\n",
            "5월    19.0\n",
            "3월     9.0\n",
            "2월    15.0\n",
            "1월     4.1\n",
            "dtype: float64\n"
          ],
          "name": "stdout"
        }
      ]
    },
    {
      "cell_type": "code",
      "metadata": {
        "colab": {
          "base_uri": "https://localhost:8080/",
          "height": 222
        },
        "id": "_cVdvd6lCN0F",
        "outputId": "98eb3382-2c98-48b9-e04f-47309e5f9491"
      },
      "source": [
        "print('데이터프레임변환:')\n",
        "#시리즈 데이터 프레임으로 변환하기\n",
        "sdt1= sdt1.to_frame()\n",
        "sdt1"
      ],
      "execution_count": null,
      "outputs": [
        {
          "output_type": "stream",
          "text": [
            "데이터프레임변환:\n"
          ],
          "name": "stdout"
        },
        {
          "output_type": "execute_result",
          "data": {
            "text/html": [
              "<div>\n",
              "<style scoped>\n",
              "    .dataframe tbody tr th:only-of-type {\n",
              "        vertical-align: middle;\n",
              "    }\n",
              "\n",
              "    .dataframe tbody tr th {\n",
              "        vertical-align: top;\n",
              "    }\n",
              "\n",
              "    .dataframe thead th {\n",
              "        text-align: right;\n",
              "    }\n",
              "</style>\n",
              "<table border=\"1\" class=\"dataframe\">\n",
              "  <thead>\n",
              "    <tr style=\"text-align: right;\">\n",
              "      <th></th>\n",
              "      <th>0</th>\n",
              "    </tr>\n",
              "  </thead>\n",
              "  <tbody>\n",
              "    <tr>\n",
              "      <th>1월</th>\n",
              "      <td>4.1</td>\n",
              "    </tr>\n",
              "    <tr>\n",
              "      <th>2월</th>\n",
              "      <td>15.0</td>\n",
              "    </tr>\n",
              "    <tr>\n",
              "      <th>3월</th>\n",
              "      <td>9.0</td>\n",
              "    </tr>\n",
              "    <tr>\n",
              "      <th>5월</th>\n",
              "      <td>19.0</td>\n",
              "    </tr>\n",
              "    <tr>\n",
              "      <th>6월</th>\n",
              "      <td>21.3</td>\n",
              "    </tr>\n",
              "  </tbody>\n",
              "</table>\n",
              "</div>"
            ],
            "text/plain": [
              "       0\n",
              "1월   4.1\n",
              "2월  15.0\n",
              "3월   9.0\n",
              "5월  19.0\n",
              "6월  21.3"
            ]
          },
          "metadata": {
            "tags": []
          },
          "execution_count": 123
        }
      ]
    },
    {
      "cell_type": "code",
      "metadata": {
        "colab": {
          "base_uri": "https://localhost:8080/"
        },
        "id": "kuAK61heZuQT",
        "outputId": "74048062-cb64-42d7-c0eb-cf03105980ed"
      },
      "source": [
        "type(sdt1)"
      ],
      "execution_count": null,
      "outputs": [
        {
          "output_type": "execute_result",
          "data": {
            "text/plain": [
              "pandas.core.frame.DataFrame"
            ]
          },
          "metadata": {
            "tags": []
          },
          "execution_count": 124
        }
      ]
    },
    {
      "cell_type": "markdown",
      "metadata": {
        "id": "5otXQBjgCfxm"
      },
      "source": [
        "\n",
        "\n",
        "---\n",
        "## (해결문제)\n",
        "다음 인문대학의 추가 합격 후보 순위를 나타내는 딕션너리이다. 이 딕션너리를 판다스 시리즈로 변환하여 다음을 해결하시오.\n",
        "1. 딕션너리 시리즈로 변환\n",
        "2. 학과를 입력 받아서 해당학과의 후보순위, 단 입력종료 메시지를 추가하여 종료가 입력되지 않으면 계속 입력\n",
        "   * 결과예시)\n",
        "   ``` \n",
        "    학과입력 =>\n",
        "일어학과\n",
        "해당 학과는 존재하지 않습니다.\n",
        "종료하시겠습니까?(종료:y)n\n",
        "학과입력 =>\n",
        "일어일문학과\n",
        "일어일문학과 추가 합격 순위 : 후보 8\n",
        "종료하시겠습니까?(종료:y)y\n",
        "  ```\n",
        "3. 후보순위가 3번 이하인 학과와 후보순위가 20번 이상인 학과 조회\n",
        "   * 조건식을 이용하는 방법\n",
        "   * 메소드를 이용하는 방법 \n",
        "4. 평균 추가 합격 순위\n",
        "   * 출력예) 평균 추가 합격 순위 : 7위\n",
        "5. 학과 명칭대로 정렬하여 시리즈에 반영\n",
        " "
      ]
    },
    {
      "cell_type": "code",
      "metadata": {
        "id": "meuWOzumGhI4"
      },
      "source": [
        "dt = {'국어국문학과':7,\t'중어중문학과':4,\t'일어일문학과':8,\t'영어영문학과':30,\t'불어불문학과':5,\t'독어독문학과':4,\t'노어노문학과':5,\t'한문학과':6,\t'언어정보학과':3,\t'사학과':7,\t'철학과':5,\t'고고학과':9}"
      ],
      "execution_count": 14,
      "outputs": []
    },
    {
      "cell_type": "code",
      "metadata": {
        "id": "YYH7Xs-aBxtd",
        "outputId": "8da93821-347a-4cc7-9be6-1749fbbd64fb",
        "colab": {
          "base_uri": "https://localhost:8080/"
        }
      },
      "source": [
        "sdt = pd.Series(dt)\n",
        "print(sdt)"
      ],
      "execution_count": 18,
      "outputs": [
        {
          "output_type": "stream",
          "text": [
            "국어국문학과     7\n",
            "중어중문학과     4\n",
            "일어일문학과     8\n",
            "영어영문학과    30\n",
            "불어불문학과     5\n",
            "독어독문학과     4\n",
            "노어노문학과     5\n",
            "한문학과       6\n",
            "언어정보학과     3\n",
            "사학과        7\n",
            "철학과        5\n",
            "고고학과       9\n",
            "dtype: int64\n"
          ],
          "name": "stdout"
        }
      ]
    },
    {
      "cell_type": "code",
      "metadata": {
        "colab": {
          "base_uri": "https://localhost:8080/"
        },
        "id": "m6XTp1l4JEHr",
        "outputId": "ff4c1fbd-e294-4ce4-976b-9365013183ca"
      },
      "source": [
        "# 학과 후보순위\n",
        "\n",
        "run=True\n",
        "while(run):\n",
        "  name = input('학과입력 => \\n')\n",
        "  print(name, ' 추가 합격 순위 : 후보', sdt[name])\n",
        "\n",
        "  if 'y' == input('종료하시겠습니까?(종료:y)'):\n",
        "    run=False\n",
        "\n",
        " "
      ],
      "execution_count": null,
      "outputs": [
        {
          "output_type": "stream",
          "text": [
            "학과입력 => \n",
            "중어중문학과\n",
            "중어중문학과  추가 합격 순위 : 후보 4\n",
            "종료하시겠습니까?(종료:y)y\n"
          ],
          "name": "stdout"
        }
      ]
    },
    {
      "cell_type": "code",
      "metadata": {
        "colab": {
          "base_uri": "https://localhost:8080/",
          "height": 316
        },
        "id": "GupWYDqwJNbZ",
        "outputId": "29415fc7-90fb-4a57-abda-ef308e52223d"
      },
      "source": [
        "# 후보순위가 3번 이하인 학과와 후보순위가 20번 이상인 학과 조회\n",
        "print(sdt[sdt.values>=10])\n",
        "print(sdt[sdt.values<=3])"
      ],
      "execution_count": 39,
      "outputs": [
        {
          "output_type": "error",
          "ename": "ValueError",
          "evalue": "ignored",
          "traceback": [
            "\u001b[0;31m---------------------------------------------------------------------------\u001b[0m",
            "\u001b[0;31mValueError\u001b[0m                                Traceback (most recent call last)",
            "\u001b[0;32m<ipython-input-39-e55c7c872416>\u001b[0m in \u001b[0;36m<module>\u001b[0;34m()\u001b[0m\n\u001b[1;32m      1\u001b[0m \u001b[0;31m# 후보순위가 3번 이하인 학과와 후보순위가 20번 이상인 학과 조회\u001b[0m\u001b[0;34m\u001b[0m\u001b[0;34m\u001b[0m\u001b[0;34m\u001b[0m\u001b[0m\n\u001b[0;32m----> 2\u001b[0;31m \u001b[0mprint\u001b[0m\u001b[0;34m(\u001b[0m\u001b[0msdt\u001b[0m\u001b[0;34m[\u001b[0m\u001b[0;36m3\u001b[0m\u001b[0;34m<=\u001b[0m\u001b[0msdt\u001b[0m\u001b[0;34m>=\u001b[0m\u001b[0;36m10\u001b[0m\u001b[0;34m]\u001b[0m\u001b[0;34m)\u001b[0m\u001b[0;34m\u001b[0m\u001b[0;34m\u001b[0m\u001b[0m\n\u001b[0m",
            "\u001b[0;32m/usr/local/lib/python3.7/dist-packages/pandas/core/generic.py\u001b[0m in \u001b[0;36m__nonzero__\u001b[0;34m(self)\u001b[0m\n\u001b[1;32m   1328\u001b[0m     \u001b[0;32mdef\u001b[0m \u001b[0m__nonzero__\u001b[0m\u001b[0;34m(\u001b[0m\u001b[0mself\u001b[0m\u001b[0;34m)\u001b[0m\u001b[0;34m:\u001b[0m\u001b[0;34m\u001b[0m\u001b[0;34m\u001b[0m\u001b[0m\n\u001b[1;32m   1329\u001b[0m         raise ValueError(\n\u001b[0;32m-> 1330\u001b[0;31m             \u001b[0;34mf\"The truth value of a {type(self).__name__} is ambiguous. \"\u001b[0m\u001b[0;34m\u001b[0m\u001b[0;34m\u001b[0m\u001b[0m\n\u001b[0m\u001b[1;32m   1331\u001b[0m             \u001b[0;34m\"Use a.empty, a.bool(), a.item(), a.any() or a.all().\"\u001b[0m\u001b[0;34m\u001b[0m\u001b[0;34m\u001b[0m\u001b[0m\n\u001b[1;32m   1332\u001b[0m         )\n",
            "\u001b[0;31mValueError\u001b[0m: The truth value of a Series is ambiguous. Use a.empty, a.bool(), a.item(), a.any() or a.all()."
          ]
        }
      ]
    },
    {
      "cell_type": "code",
      "metadata": {
        "colab": {
          "base_uri": "https://localhost:8080/"
        },
        "id": "4629Y849zscy",
        "outputId": "aba9df9e-916b-44a5-d8bd-52ee584564ab"
      },
      "source": [
        "print(sdt[sdt.values>=10])\n",
        "print(sdt[sdt.values<=3])"
      ],
      "execution_count": 40,
      "outputs": [
        {
          "output_type": "stream",
          "text": [
            "영어영문학과    30\n",
            "dtype: int64\n",
            "언어정보학과    3\n",
            "dtype: int64\n"
          ],
          "name": "stdout"
        }
      ]
    },
    {
      "cell_type": "code",
      "metadata": {
        "colab": {
          "base_uri": "https://localhost:8080/"
        },
        "id": "h29SMwL3zvXD",
        "outputId": "187f9ab7-f077-46ed-d5d9-281b47e9f32d"
      },
      "source": [
        "print(sdt[sdt.values>=10])"
      ],
      "execution_count": 30,
      "outputs": [
        {
          "output_type": "stream",
          "text": [
            "영어영문학과    30\n",
            "dtype: int64\n"
          ],
          "name": "stdout"
        }
      ]
    },
    {
      "cell_type": "code",
      "metadata": {
        "colab": {
          "base_uri": "https://localhost:8080/"
        },
        "id": "L2KvDt6VKT4Z",
        "outputId": "37760058-71b4-4ced-ce2b-7d0b45e09462"
      },
      "source": [
        "print(sdt[sdt.values>=10])\n",
        "print(sdt[sdt.values<=3])"
      ],
      "execution_count": 41,
      "outputs": [
        {
          "output_type": "stream",
          "text": [
            "영어영문학과    30\n",
            "dtype: int64\n",
            "언어정보학과    3\n",
            "dtype: int64\n"
          ],
          "name": "stdout"
        }
      ]
    },
    {
      "cell_type": "code",
      "metadata": {
        "colab": {
          "base_uri": "https://localhost:8080/"
        },
        "id": "DSNGbBI2Kw_l",
        "outputId": "8ebe0093-bbcf-4206-fdde-f0b7e8a546bf"
      },
      "source": [
        "#평균 추가 합격 순위\n",
        "print('평균 추가 합격 순위', sdt.mean())"
      ],
      "execution_count": 32,
      "outputs": [
        {
          "output_type": "stream",
          "text": [
            "평균 추가 합격 순위 7.75\n"
          ],
          "name": "stdout"
        }
      ]
    },
    {
      "cell_type": "code",
      "metadata": {
        "colab": {
          "base_uri": "https://localhost:8080/"
        },
        "id": "IVaxfjTA0Unf",
        "outputId": "1e5d7ba9-39d8-4975-b41b-cab70414a371"
      },
      "source": [
        "print(sdt.sort_values(ascending=True))"
      ],
      "execution_count": 35,
      "outputs": [
        {
          "output_type": "stream",
          "text": [
            "언어정보학과     3\n",
            "중어중문학과     4\n",
            "독어독문학과     4\n",
            "불어불문학과     5\n",
            "노어노문학과     5\n",
            "철학과        5\n",
            "한문학과       6\n",
            "국어국문학과     7\n",
            "사학과        7\n",
            "일어일문학과     8\n",
            "고고학과       9\n",
            "영어영문학과    30\n",
            "dtype: int64\n"
          ],
          "name": "stdout"
        }
      ]
    },
    {
      "cell_type": "code",
      "metadata": {
        "colab": {
          "base_uri": "https://localhost:8080/"
        },
        "id": "NKNV4QorLIY9",
        "outputId": "30770103-cdce-41e4-9a87-1cb9b6feca60"
      },
      "source": [
        "#학과 명칭대로 정렬\n",
        "print(sdt.sort_index(ascending=True))"
      ],
      "execution_count": 37,
      "outputs": [
        {
          "output_type": "stream",
          "text": [
            "고고학과       9\n",
            "국어국문학과     7\n",
            "노어노문학과     5\n",
            "독어독문학과     4\n",
            "불어불문학과     5\n",
            "사학과        7\n",
            "언어정보학과     3\n",
            "영어영문학과    30\n",
            "일어일문학과     8\n",
            "중어중문학과     4\n",
            "철학과        5\n",
            "한문학과       6\n",
            "dtype: int64\n"
          ],
          "name": "stdout"
        }
      ]
    }
  ]
}