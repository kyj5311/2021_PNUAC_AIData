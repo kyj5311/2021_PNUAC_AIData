{
  "nbformat": 4,
  "nbformat_minor": 0,
  "metadata": {
    "colab": {
      "name": "07_codelab3_bs.ipynb",
      "provenance": [],
      "include_colab_link": true
    },
    "interpreter": {
      "hash": "b3ba2566441a7c06988d0923437866b63cedc61552a5af99d1f4fb67d367b25f"
    },
    "kernelspec": {
      "display_name": "Python 3.8.5 64-bit ('base': conda)",
      "name": "python3"
    },
    "language_info": {
      "name": "python",
      "version": ""
    }
  },
  "cells": [
    {
      "cell_type": "markdown",
      "metadata": {
        "id": "view-in-github",
        "colab_type": "text"
      },
      "source": [
        "<a href=\"https://colab.research.google.com/github/kyj5311/2021_PNUAC_AIData/blob/main/07_codelab3_bs.ipynb\" target=\"_parent\"><img src=\"https://colab.research.google.com/assets/colab-badge.svg\" alt=\"Open In Colab\"/></a>"
      ]
    },
    {
      "cell_type": "markdown",
      "metadata": {
        "id": "ujvDcnX-o9-W"
      },
      "source": [
        "🏷️ **웹 동작원리**\n",
        "\n",
        "\n",
        "---\n",
        "<img src ='https://drive.google.com/uc?export=view&id=1amZ78fUnfp3o5Q1XVKDG3eAAzKaYlPrp'>\n",
        "\n",
        "---"
      ]
    },
    {
      "cell_type": "markdown",
      "metadata": {
        "id": "yaRwPjIG0UbX"
      },
      "source": [
        "# Beautiful Soup 모듈\n",
        "+ HTML 및 XML 문서 를 구문 분석하기 위한 Python 패키지\n",
        "+ DOM 추출\n",
        "+ 기본적으로 UTF-8 인코딩 방식이지만 CP949도 지원"
      ]
    },
    {
      "cell_type": "markdown",
      "metadata": {
        "id": "qXgcvJCO1XM6"
      },
      "source": [
        "🏷️ **웹 스크래핑(Web Scraping)과 웹 크롤링(Web Crawling)**\n",
        "\n",
        "\n",
        "---\n",
        "+ 웹 스크래핑(Web Scraping) : 웹 사이트 상에서 원하는 정보를 추출하는 기술\n",
        "+ 웹 크롤링(Web Crawling) : 웹 크롤러(자동화봇)가정해진 규칙에 따라 웹 페이지를 수집해서 각 사이트의 정보를 분류하는 기술\n",
        "\n",
        "\n",
        "\n",
        "\n",
        "---\n",
        "\n",
        "\n"
      ]
    },
    {
      "cell_type": "markdown",
      "metadata": {
        "id": "7U-axA1K3yaR"
      },
      "source": [
        "## BeautifulSoup 모듈을 활용한 스크래핑"
      ]
    },
    {
      "cell_type": "markdown",
      "metadata": {
        "id": "a2-66aK64FqU"
      },
      "source": [
        "### 1. 웹 페이지 가져오기"
      ]
    },
    {
      "cell_type": "code",
      "metadata": {
        "colab": {
          "base_uri": "https://localhost:8080/",
          "height": 70
        },
        "id": "qSqcLjpt0NZH",
        "outputId": "fd25fefd-635b-40e1-c5fb-fec7903b8b94"
      },
      "source": [
        "#모듈 import\n",
        "\n",
        "from urllib.request import urlopen \n",
        "\n",
        "url = 'https://news.daum.net/ranking/popular'\n",
        "\n",
        "#웹 페이지 가져오기 \n",
        "webpage = urlopen(url).read().decode('utf-8')\n",
        "webpage[:200]"
      ],
      "execution_count": 2,
      "outputs": [
        {
          "output_type": "execute_result",
          "data": {
            "application/vnd.google.colaboratory.intrinsic+json": {
              "type": "string"
            },
            "text/plain": [
              "'\\n<!DOCTYPE html>\\n\\n\\n\\n<html lang=\"ko\" class=\"os_unknown none unknown version_0 \">\\n<head>\\n<meta charset=\"utf-8\">\\n<meta name=\"referrer\" content=\"always\" />\\n\\n<meta property=\"og:author\" content=\"Daum 뉴스\" />'"
            ]
          },
          "metadata": {
            "tags": []
          },
          "execution_count": 2
        }
      ]
    },
    {
      "cell_type": "markdown",
      "metadata": {
        "id": "UiUuj4XA46HA"
      },
      "source": [
        "### 2. BeautifulSoup 객체 생성\n",
        "\n",
        "```python\n",
        "from bs4 import BeautifulSoup as bs\n",
        "\n",
        "인스턴스명 = BeautifulSoup(markup, parser)\n",
        "```\n",
        "* 첫 번째 인자 : HTML 형식의 문자열\n",
        "* 두 번째 인자 : 첫 번째 인자의 문자열을 해석하기 위한 파서\n",
        "\n",
        "  * **파서(parser) 종류**\n",
        "    + html.parser : 파이썬 표준 라이브러리에 포함된 파서로 빠르지만 유연하지 않기 때문에 단순한 HTML문서에 사용\n",
        "\n",
        "        ```\n",
        "        BeautifulSoup(markup, \"html.parser\")\n",
        "        ```\n",
        "\n",
        "    + lxml : 매우 빠르고 유연하지만 외부 의존\n",
        "      - lxml의 HTML 파서\n",
        "          ```\n",
        "          BeautifulSoup(markup, \"lxml\")\n",
        "          ```\n",
        "      - lxml의 XML 파서\n",
        "          ```\n",
        "          BeautifulSoup(markup, \"lxml-xml\")\n",
        "          ```\n",
        "\n",
        "    + html5lib : 웹 브라우저와 동일한 방식으로 페이지 구문 분석하는 파서로 매우 느리지만 매우 유연하지만 외부 의존\n",
        "        ```\n",
        "        BeautifulSoup(markup, \"html5lib\")\n",
        "      ```"
      ]
    },
    {
      "cell_type": "code",
      "metadata": {
        "id": "yBCdkhy15Vrr"
      },
      "source": [
        "#모듈 import \n",
        "\n",
        "#DOM 문서 만들기\n",
        "\n",
        "from bs4 import BeautifulSoup as bs\n",
        " \n",
        "html = bs(webpage, 'html.parser')"
      ],
      "execution_count": 3,
      "outputs": []
    },
    {
      "cell_type": "code",
      "metadata": {
        "colab": {
          "base_uri": "https://localhost:8080/"
        },
        "id": "NqqduTmfu_y1",
        "outputId": "b262e7db-7390-458a-dd1b-89a5908f4501"
      },
      "source": [
        "type(html)"
      ],
      "execution_count": 4,
      "outputs": [
        {
          "output_type": "execute_result",
          "data": {
            "text/plain": [
              "bs4.BeautifulSoup"
            ]
          },
          "metadata": {
            "tags": []
          },
          "execution_count": 4
        }
      ]
    },
    {
      "cell_type": "markdown",
      "metadata": {
        "id": "ZvinaJXV5ZDP"
      },
      "source": [
        "### 2. **Beautiful Soup 파싱 메소드**\n",
        "+ 태그명\n",
        "  + **.find(태그명)** : 조건에 맞는 태그 1개만 찾음\n",
        "  + **.find_all(태그명)** : 조건에 맞는 모든 태그 찾음\n",
        "+ css선택자\n",
        "  + **.select_one(선택자)** : 조건에 맞는 CSS선택자 1개만 찾음\n",
        "  + **.select(선택자)** : 조건에 맞는 CSS선택자 찾음"
      ]
    },
    {
      "cell_type": "markdown",
      "metadata": {
        "id": "KtEAsQTx72Ab"
      },
      "source": [
        "🏷️ **HTML과 CSS**\n",
        "\n",
        "\n",
        "---\n",
        "\n",
        "\n",
        "\n",
        "+ **HTML(Hyper Text Markup Language)**\n",
        "  + 웹페이지 상에서 문단, 제목, 표, 이미지, 동영상 등을 정의하고 웹페이지 내용을 구조화하고 의미를 부여하는 마크업 언어\n",
        "+ **CSS(Cascading Style Sheet)**\n",
        "  + 색상, 레이아웃 및 글꼴등 웹페이지의 디자인 요소를 담당하는 선언형 언어로 스타일 시트(Style Sheet)라고도 하고, HTML로 작성된 웹페이지를 보기 좋게 꾸며주는 스타일 규칙 언어\n",
        "\n",
        "+ 참고 사이트 : <https://www.w3schools.com/>\n",
        "\n",
        "\n",
        "---\n",
        "\n"
      ]
    },
    {
      "cell_type": "markdown",
      "metadata": {
        "id": "IrOBlRCZxdcd"
      },
      "source": [
        "#mArticle > div.rank_news > ul.list_news2 > li"
      ]
    },
    {
      "cell_type": "code",
      "metadata": {
        "colab": {
          "base_uri": "https://localhost:8080/"
        },
        "id": "CU0NvcF06bOt",
        "outputId": "b7b74ddc-6b3e-43c5-a733-9b8b97de9c62"
      },
      "source": [
        "#자료 추출하기\n",
        "lis = html.select('#mArticle > div.rank_news > ul.list_news2 > li')\n",
        "print(type(lis), ' 요소 수 : ', len(lis))\n",
        "print(lis[0])"
      ],
      "execution_count": 8,
      "outputs": [
        {
          "output_type": "stream",
          "text": [
            "<class 'list'>  요소 수 :  50\n",
            "<li data-tiara-layer=\"news_list\" data-tiara-ordnum=\"1\" data-tiara-type=\"article\">\n",
            "<div class=\"rank_num rank_popular\">\n",
            "<span class=\"wrap_num\">\n",
            "<span class=\"num_rank\">\n",
            "<span class=\"num_news num1\"></span>\n",
            "<span class=\"screen_out\">1</span>\n",
            "</span>\n",
            "</span>\n",
            "</div>\n",
            "<a class=\"link_thumb\" href=\"https://v.daum.net/v/20210709121140292\">\n",
            "<img alt=\"김부선, '가운뎃손가락' 들고 &quot;이재명씨 쪽팔리지 않으세요?&quot;\" aria-hidden=\"true\" class=\"thumb_g\" src=\"https://img1.daumcdn.net/thumb/S95x77ht.u/?fname=https%3A%2F%2Ft1.daumcdn.net%2Fnews%2F202107%2F09%2Finews24%2F20210709121141235naob.jpg&amp;scode=media\"/>\n",
            "</a>\n",
            "<div class=\"cont_thumb\">\n",
            "<strong class=\"tit_thumb\">\n",
            "<a class=\"link_txt\" href=\"https://v.daum.net/v/20210709121140292\">김부선, '가운뎃손가락' 들고 \"이재명씨 쪽팔리지 않으세요?\"</a>\n",
            "<span class=\"info_news\">아이뉴스24</span>\n",
            "</strong>\n",
            "<div class=\"desc_thumb\">\n",
            "<span class=\"link_txt\">\n",
            "                        [아이뉴스24 유지희 기자] 배우 김부선 씨가 이재명 경기지사를 향해 \"이재명씨 쪽팔리지 않느냐\"라고 또 저격했다. 김씨는 9일 자신의 사회관계망서비스(SNS)를 통해 ...\n",
            "                    </span>\n",
            "</div>\n",
            "</div>\n",
            "</li>\n"
          ],
          "name": "stdout"
        }
      ]
    },
    {
      "cell_type": "code",
      "metadata": {
        "colab": {
          "base_uri": "https://localhost:8080/"
        },
        "id": "IkwduFv29ai6",
        "outputId": "9db2f792-0477-4a54-cd7b-5a03b9a37eb6"
      },
      "source": [
        "#필요한 자료 만들기\n",
        "for li in lis:\n",
        "  title = li.select_one('.cont_thumb > .tit_thumb > a').text.replace('\"', '')\n",
        "  info_news = li.select_one('.cont_thumb > .tit_thumb > .info_news').text\n",
        "  print(title, ':',info_news)"
      ],
      "execution_count": 13,
      "outputs": [
        {
          "output_type": "stream",
          "text": [
            "김부선, '가운뎃손가락' 들고 이재명씨 쪽팔리지 않으세요? : 아이뉴스24\n",
            "실업급여 5년간 3회 이상 반복수급, 급여액 점차 깎는다 : 뉴스1\n",
            "[Q&A] 가족 4명 식당서 식사하다가 6시 넘으면?..일단 규정 위반 : 뉴스1\n",
            "[Q&A] '18시 이후 2인만' 제사·상견례도 예외없어..골프는 이번에도 캐디 '제외' : 뉴시스\n",
            "아무도 못오는 결혼식 됐다..예비 부부들 '4단계 격상' 울분 : 뉴스1\n",
            "北, 코백스에 'AZ말고 다른 것 달라' 요구..중국 백신도 불신 : 연합뉴스\n",
            "캐나다 호수 부근서 발견된 다이아몬드가 말했다..27억년 전 지구도 살만 했다고 : 동아사이언스\n",
            "[현장연결] 유은혜 서울·경기·인천 유초중고, 14∼25일 전면 원격수업 : 연합뉴스TV\n",
            "갈등 풀러 도쿄 가려는 文..빈손으로 돌아오면 역풍우려 : 중앙일보\n",
            "靑, 성과 없이 안 간다..'文 올림픽 조건부 참석' 고수 : 뉴시스\n",
            "60대 인부 덮친 '만취 벤츠' 30대 여성, 20일 재판 앞두고 4차례 반성문 : 뉴스1\n",
            "[사진 톡톡] 인도네시아 코로나 사망자 폭증에.. : 연합뉴스\n",
            "화이자, 델타 변이 막을 부스터샷 개발..당국 불필요(종합2보) : 연합뉴스\n",
            "日스가, 참을수 없는 동문서답..코로나 책임질거냐 묻자 백신을 : 서울신문\n",
            "'최다 확진' 서울시..느슨해진 역학조사부터 강화 해야 : 한국일보\n",
            "윤석열 조국 의혹 쏟아질 때 대통령 임명장 잉크 만지며 고민 : 서울신문\n",
            "[단독][윤석열 인터뷰]⑤ 장모 일은 장모 일, 내 길과 달라..집사람, 새벽까지 공부하며 바빠 : 경향신문\n",
            "최재형에 줄잇는 조문..유승민 형과 서로 아끼는 사이 : 연합뉴스\n",
            "'백신 사각지대' 놓였던 50대, 12일부터 모더나 백신 접종 예약 : 세계일보\n",
            "檢 정진웅 유체이탈 변명 일관 한동훈 독직폭행 징역1년 구형 : 중앙일보\n",
            "아이티 대통령 암살범 콜롬비아인 26명·미국인 2명 구성 : 연합뉴스\n",
            "만보걷기가 정답? 하루 30분만 걸어도 된다 : 매일경제\n",
            "보험만기환급금을 압류당했어요 14만 원 주민세 체납했더니.. : YTN\n",
            "국민의힘 '비호감' 49%..원내 주요 5개 정당 중 가장 낮아 : 한국일보\n",
            "강남에선 3시간 줄서야 검사대란에..오세훈 불편 줄일 앱 개발 지시 : 뉴시스\n",
            "수도권 오후 6시 '통금'..백화점·마트 주말부터 걱정 : 뉴시스\n",
            "故 박원순 1주기, 눈물 흘린 강난희씨..지지자들은 사모님 힘내세요 : 머니투데이\n",
            "재택 끝, 사표 행렬 막자..MS, 전 직원 1500달러 위로금 : 뉴스1\n",
            "수도권 거리두기 4단계 격상..12일부터 2주간 : YTN\n",
            "기초단체장들 재난지원금, 선별없이 전 국민에 전액 국비로 지급해야 : 뉴시스\n",
            "'이재명 제주 오지 말라'던 원희룡, 여권 대선주자 정세균엔? : 연합뉴스\n",
            "1타강사 주예지, 전속 계약 위반으로 메가스터디에 8억여원 배상 판결 : 헤럴드경제\n",
            "드레스 메이크업만 200만원인데.. 4단계 눈물의 예비 부부 : 매일경제\n",
            "[자막뉴스] '쥴리' 해명했다가 되레 논문 논란..기본도 못 갖춰 : YTN\n",
            "[뉴시스Pic] '가족들만 참석한 고(故) 박원순 전 시장 1주기 추모제' : 뉴시스\n",
            "윤석열, 아내 김건희 논문 때리는 여당에 이재명·정세균·추미애나 조처해 : 세계일보\n",
            "'만취' 포르쉐, 인도 돌진..신호등·차량 들이박아 : 세계일보\n",
            "헬스장 러닝머신 속도 6km 넘으면 안돼..초강수 4단계 Q&A : 중앙일보\n",
            "셧다운 전에 '벙개' 쳤어요.. 다닥다닥 '서울의 밤' : 문화일보\n",
            "현대百만 하루 8830건..확진자 폭증에 선별검사소 '번아웃' : 뉴스1\n",
            "조두순보다 더한 놈이 온다..'소녀 11명 성폭행' 김근식, 9월 출소 : 머니투데이\n",
            "오세훈의 세월호 지우기..광화문 '기억공간' 철거 통보 : 한겨레\n",
            "하라는 대로 했는데..이젠 버틸 힘도 없다 수도권 4단계 격상에 자영업자 '패닉' : 매일경제\n",
            "[Q&A] 4명 카페갔다 오후 6시 넘으면?..규정위반, 개인과태료 10만원 : 연합뉴스\n",
            "조국 난 박근혜때 反정부..내게 무슨 득 보려 딸 장학금 줬겠나 : 뉴스1\n",
            "외신, 한국 거리두기 격상 긴급 보도..방역 모범국의 후퇴 : 뉴스1\n",
            "4명 골프 쳐도 6시에 해산해야..동거가족 사적모임서 예외 : 노컷뉴스\n",
            "이재명 '대세론 굳히기' 실패.. 이낙연, 국민면접으로 '반등 기회' : 문화일보\n",
            "[단독] 로젠택배 드디어 팔린다..새 주인에 대명화학 : 매일경제\n",
            "월요일 오후 6시부터 '셧다운'..일상, 결국 '강제 스톱'되다 : 헤럴드경제\n"
          ],
          "name": "stdout"
        }
      ]
    },
    {
      "cell_type": "markdown",
      "metadata": {
        "id": "o0j52hED_Mqu"
      },
      "source": [
        "## 해결문제\n",
        "---\n",
        "댓글많은 뉴스를 사이트의 제목을 수집해서 AI Cloud의 무료 AI 서비스 중 텍스트 감정 분석 결과를 분석하고 결과를 파일로 저장하시오.단, 감성분석 분석(긍정,중립,부정)은 함수를 이용하여 작성하고 댓글수와 제목의 쉼표는 제거하시오.\n",
        "\n",
        "예시) \n",
        "news.csv 내용\n",
        "```\n",
        "순위,제목,댓글수,언론사,감성,신뢰도\n",
        "1,故손정민 父 \"서울경찰청 정민이와 나를 미워한다\",2564,데일리안,부정,0.9970703125\n",
        "2,신고만하면 한국인? \"中에 나라 파냐\" 국적법 때린 반중정서,2274,중앙일보,부정,0.99755859375\n",
        "3,'잔여 백신' 첫날 젊은층 대거 몰렸다..AZ 부정적 시선 바뀌나,1726,파이낸셜뉴스,부정,0.98974609375\n",
        "4,'도쿄올림픽 지도서 독도 삭제' 요구에 日정부 \"수용 불가\",1543,연합뉴스,부정,0.9873046875\n",
        "\n",
        "...\n",
        "\n",
        "47,\"손정민 사건 제가 책임지고\"..경찰 '김창룡 청장 가짜뉴스' 내사,115,뉴스1,부정,0.9921875\n",
        "48,로또 1등 수령자에 통장 비번 요구·5억 적금 강매한 농협,105,뉴스1,부정,0.99072265625\n",
        "49,'도쿄올림픽 지도서 독도 삭제' 韓요구에 日정부 \"수용 불가\",97,중앙일보,부정,0.986328125\n",
        "50,올림픽 취소로 日 배상금 떠안나..日언론 \"IOC와 불평등 계약\",93,뉴스1,부정,0.99609375\n",
        "\n",
        "```"
      ]
    },
    {
      "cell_type": "markdown",
      "metadata": {
        "id": "aTyzoYLczhyR"
      },
      "source": [
        "https://news.daum.net/ranking/bestreply"
      ]
    },
    {
      "cell_type": "markdown",
      "metadata": {
        "id": "CNlmUIWDdO64"
      },
      "source": [
        "\n",
        "\n",
        "---\n",
        "\n",
        "\n",
        "※ 카카오톡 메신저 내용 분석해보기\n",
        "\n",
        "\n",
        "---\n",
        "\n"
      ]
    }
  ]
}