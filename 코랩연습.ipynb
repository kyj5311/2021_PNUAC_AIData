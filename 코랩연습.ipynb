{
  "nbformat": 4,
  "nbformat_minor": 0,
  "metadata": {
    "colab": {
      "name": "코랩연습.ipynb",
      "provenance": [],
      "collapsed_sections": [],
      "toc_visible": true,
      "authorship_tag": "ABX9TyNZjnZ41nJcGzoXiPdIFgkr",
      "include_colab_link": true
    },
    "kernelspec": {
      "name": "python3",
      "display_name": "Python 3"
    },
    "language_info": {
      "name": "python"
    }
  },
  "cells": [
    {
      "cell_type": "markdown",
      "metadata": {
        "id": "view-in-github",
        "colab_type": "text"
      },
      "source": [
        "<a href=\"https://colab.research.google.com/github/kyj5311/2021_PNUAC_AIData/blob/main/%EC%BD%94%EB%9E%A9%EC%97%B0%EC%8A%B5.ipynb\" target=\"_parent\"><img src=\"https://colab.research.google.com/assets/colab-badge.svg\" alt=\"Open In Colab\"/></a>"
      ]
    },
    {
      "cell_type": "markdown",
      "metadata": {
        "id": "ByA5Q6MlWGt6"
      },
      "source": [
        "#코랩연습파일(제목셀)\n"
      ]
    },
    {
      "cell_type": "markdown",
      "metadata": {
        "id": "RSFUoItAWhce"
      },
      "source": [
        "##텍스트 셀\n",
        "* 두 번 클릭 하여이 셀을 편집\n",
        "* 마크 다운 구문을 사용하여 작성\n",
        " * 마크 다운은 텍스트 기반의 마크업언어\n",
        " * README 파일이나 온라인 문서, 혹은 일반 텍스트   편집기로 문서 양식을 편집할 때 사용\n",
        "# * 마크 다운 문법 : [문법보기](https://colab.research.google.com/notebooks/markdown_guide.ipynb)"
      ]
    },
    {
      "cell_type": "markdown",
      "metadata": {
        "id": "0S_wlNb-YkGv"
      },
      "source": [
        "##코드 셀 "
      ]
    },
    {
      "cell_type": "code",
      "metadata": {
        "colab": {
          "base_uri": "https://localhost:8080/"
        },
        "id": "2YtG91UWYstb",
        "outputId": "e946df62-6551-4267-987a-23f72939c178"
      },
      "source": [
        "print('hello Python')"
      ],
      "execution_count": 1,
      "outputs": [
        {
          "output_type": "stream",
          "text": [
            "hello Python\n"
          ],
          "name": "stdout"
        }
      ]
    },
    {
      "cell_type": "code",
      "metadata": {
        "colab": {
          "base_uri": "https://localhost:8080/"
        },
        "id": "EvoknVMzY-04",
        "outputId": "37a3d70d-bb41-4072-de3a-b8b73d3fa300"
      },
      "source": [
        "print('Hello JAVA')"
      ],
      "execution_count": 2,
      "outputs": [
        {
          "output_type": "stream",
          "text": [
            "Hello JAVA\n"
          ],
          "name": "stdout"
        }
      ]
    },
    {
      "cell_type": "code",
      "metadata": {
        "id": "1jqyGM9jZHNr"
      },
      "source": [
        "x=10"
      ],
      "execution_count": 4,
      "outputs": []
    },
    {
      "cell_type": "code",
      "metadata": {
        "id": "Rg3U14wOZJd9"
      },
      "source": [
        "y=20"
      ],
      "execution_count": 8,
      "outputs": []
    },
    {
      "cell_type": "code",
      "metadata": {
        "colab": {
          "base_uri": "https://localhost:8080/"
        },
        "id": "oq49Pei6ZVYg",
        "outputId": "e2bb94f7-00a3-4643-9b5d-1e4f45f0b893"
      },
      "source": [
        "print(f'{x}, {y}')"
      ],
      "execution_count": 10,
      "outputs": [
        {
          "output_type": "stream",
          "text": [
            "10, 20\n"
          ],
          "name": "stdout"
        }
      ]
    }
  ]
}