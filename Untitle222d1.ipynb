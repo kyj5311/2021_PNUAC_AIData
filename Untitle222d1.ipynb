{
  "nbformat": 4,
  "nbformat_minor": 0,
  "metadata": {
    "colab": {
      "name": "Untitled1.ipynb",
      "provenance": [],
      "include_colab_link": true
    },
    "kernelspec": {
      "name": "python3",
      "display_name": "Python 3"
    },
    "language_info": {
      "name": "python"
    }
  },
  "cells": [
    {
      "cell_type": "markdown",
      "metadata": {
        "id": "view-in-github",
        "colab_type": "text"
      },
      "source": [
        "<a href=\"https://colab.research.google.com/github/kyj5311/2021_PNUAC_AIData/blob/main/Untitle222d1.ipynb\" target=\"_parent\"><img src=\"https://colab.research.google.com/assets/colab-badge.svg\" alt=\"Open In Colab\"/></a>"
      ]
    },
    {
      "cell_type": "markdown",
      "metadata": {
        "id": "Tt9CkrrQeoi6"
      },
      "source": [
        ""
      ]
    },
    {
      "cell_type": "code",
      "metadata": {
        "id": "lG0DZ1AgWBYK"
      },
      "source": [
        "import numpy as np"
      ],
      "execution_count": null,
      "outputs": []
    },
    {
      "cell_type": "code",
      "metadata": {
        "id": "YX2NdSIfi4Tp"
      },
      "source": [
        "from sklearn.model_selection import train_test_split"
      ],
      "execution_count": null,
      "outputs": []
    },
    {
      "cell_type": "code",
      "metadata": {
        "id": "4NS0EqbPWL3c"
      },
      "source": [
        "import pandas as pd\n",
        "import matplotlib.pyplot as plt\n",
        "import seaborn as sns"
      ],
      "execution_count": null,
      "outputs": []
    },
    {
      "cell_type": "code",
      "metadata": {
        "id": "LJwOiJJhXdgt"
      },
      "source": [
        "from sklearn.neighbors import KNeighborsClassifier"
      ],
      "execution_count": null,
      "outputs": []
    },
    {
      "cell_type": "code",
      "metadata": {
        "id": "w-Ash6CBXeiE"
      },
      "source": [
        "kn = KNeighborsClassifier(n_neighbors=5)"
      ],
      "execution_count": null,
      "outputs": []
    },
    {
      "cell_type": "code",
      "metadata": {
        "id": "AUqw5rL7YfVx"
      },
      "source": [
        "precipitation_ran=[0.1,1.6,0,2.2,2.9,47.6,11.5,0,29.1,3.6,0,11.5,103.1,2.9,2.2,0.4,50.1,0.1,1.5,39.1,31.4,102.6,3.9,18.5,75.7,0,19.1,50.3,44.6,97,69,0.1,37.6,13.3,2.1,11.9,64.7]\n",
        "precipitation_non_ran=[8.7,13.6,13.6,42.5,33.3,29.8,6.4,1.3,3.9,5.7,38.3,1.8,46.3,11.6,0.6,1.7,6.7,2,13.4, 4.2,3.1,16.6,3.9,11.8,0, 0, 0, 0, 13.6, 1.7, 0.5, 0, 86.9, 0, 0, 2.9, 0.2, 1.3, 0.2,1.9,10.3,2.3,24.4,1.3,3.4,0.7,12,2.5,29.8,19.1,14.5,1.5,1,0.4,2,0.2,6.2,1.1]\n",
        "\n",
        "Temperatures_ran=[25.5,24.2,24.1,24.5,23.5,18.7, 20.3,26,24,23.8,25,23.7,21.1,22.5,24.3,24.3,23.7,25.3,26.2,25.3,24.9,25,27,26.5,24.1,24.3,24.2,24.9,26.5,24.6,26.1,24.7,22.3,21.6,21.8,23.8,20.1]\n",
        "Temperatures_non_ran[27.1,27.3,26.8,26.8,24.3,22.7,21.7,22.1,22.8,20.2,19.6,3.1,6.3,2.4,1.9,-1.6,7.4,9.8,-1.4,6.7,4,6.7,4.5,6.4,11.9,18.8, 16.9, 14.1, 13.6, 13.7, 10.8, 5.1, 9.3, 13.6, 5.6, 2.4, -1.1, -2.1, 6.7, 0.1,12.5,12.3,19.9,14.2,14.4,16.5,14.3,16.1,16.7,19.1,17.1,16.2,21.2,19.7,17.9,21.9,25.8,24]\n",
        "target_ran=[]\n",
        "target_non_ran\n",
        "for i in range(0,95) :\n",
        "  if i<37 : target.append(1)\n",
        "  else : target.append(0)"
      ],
      "execution_count": null,
      "outputs": []
    },
    {
      "cell_type": "code",
      "metadata": {
        "colab": {
          "base_uri": "https://localhost:8080/"
        },
        "id": "JHgQXKSme-WI",
        "outputId": "21d3144e-11d6-441a-ad61-79af39676934"
      },
      "source": [
        "print(len(precipitation), len(Temperatures), len(target))\n",
        "print(precipitation, Temperatures, target)"
      ],
      "execution_count": null,
      "outputs": [
        {
          "output_type": "stream",
          "text": [
            "95 95 95\n",
            "[0.1, 1.6, 0, 2.2, 2.9, 47.6, 11.5, 0, 29.1, 3.6, 0, 11.5, 103.1, 2.9, 2.2, 0.4, 50.1, 0.1, 1.5, 39.1, 31.4, 102.6, 3.9, 18.5, 75.7, 0, 19.1, 50.3, 44.6, 97, 69, 0.1, 37.6, 13.3, 2.1, 11.9, 64.7, 8.7, 13.6, 13.6, 42.5, 33.3, 29.8, 6.4, 1.3, 3.9, 5.7, 38.3, 1.8, 46.3, 11.6, 0.6, 1.7, 6.7, 2, 13.4, 4.2, 3.1, 16.6, 3.9, 11.8, 0, 0, 0, 0, 13.6, 1.7, 0.5, 0, 86.9, 0, 0, 2.9, 0.2, 1.3, 0.2, 1.9, 10.3, 2.3, 24.4, 1.3, 3.4, 0.7, 12, 2.5, 29.8, 19.1, 14.5, 1.5, 1, 0.4, 2, 0.2, 6.2, 1.1] [25.5, 24.2, 24.1, 24.5, 23.5, 18.7, 20.3, 26, 24, 23.8, 25, 23.7, 21.1, 22.5, 24.3, 24.3, 23.7, 25.3, 26.2, 25.3, 24.9, 25, 27, 26.5, 24.1, 24.3, 24.2, 24.9, 26.5, 24.6, 26.1, 24.7, 22.3, 21.6, 21.8, 23.8, 20.1, 27.1, 27.3, 26.8, 26.8, 24.3, 22.7, 21.7, 22.1, 22.8, 20.2, 19.6, 3.1, 6.3, 2.4, 1.9, -1.6, 7.4, 9.8, -1.4, 6.7, 4, 6.7, 4.5, 6.4, 11.9, 18.8, 16.9, 14.1, 13.6, 13.7, 10.8, 5.1, 9.3, 13.6, 5.6, 2.4, -1.1, -2.1, 6.7, 0.1, 12.5, 12.3, 19.9, 14.2, 14.4, 16.5, 14.3, 16.1, 16.7, 19.1, 17.1, 16.2, 21.2, 19.7, 17.9, 21.9, 25.8, 24] [1, 1, 1, 1, 1, 1, 1, 1, 1, 1, 1, 1, 1, 1, 1, 1, 1, 1, 1, 1, 1, 1, 1, 1, 1, 1, 1, 1, 1, 1, 1, 1, 1, 1, 1, 1, 1, 0, 0, 0, 0, 0, 0, 0, 0, 0, 0, 0, 0, 0, 0, 0, 0, 0, 0, 0, 0, 0, 0, 0, 0, 0, 0, 0, 0, 0, 0, 0, 0, 0, 0, 0, 0, 0, 0, 0, 0, 0, 0, 0, 0, 0, 0, 0, 0, 0, 0, 0, 0, 0, 0, 0, 0, 0, 0]\n"
          ],
          "name": "stdout"
        }
      ]
    },
    {
      "cell_type": "code",
      "metadata": {
        "colab": {
          "base_uri": "https://localhost:8080/",
          "height": 1000
        },
        "id": "jwXjdg3uXsnF",
        "outputId": "485c13c3-1822-4b9b-fdbb-b724867b8b03"
      },
      "source": [
        "data= pd.DataFrame()\n",
        "data['precipitation']=precipitation\n",
        "data['Temperatures']=Temperatures\n",
        "data['target']=target\n",
        "print(df)\n",
        "sns.pairplot(data=df, hue='target')\n",
        "plt.show()\n",
        "df.to_numpy()\n",
        "df_n=df.to_numpy()\n",
        "print(df_n)\n",
        "print(type(df_n))"
      ],
      "execution_count": null,
      "outputs": [
        {
          "output_type": "stream",
          "text": [
            "    precipitation  Temperatures  target\n",
            "0             0.1          25.5       1\n",
            "1             1.6          24.2       1\n",
            "2             0.0          24.1       1\n",
            "3             2.2          24.5       1\n",
            "4             2.9          23.5       1\n",
            "..            ...           ...     ...\n",
            "90            0.4          19.7       0\n",
            "91            2.0          17.9       0\n",
            "92            0.2          21.9       0\n",
            "93            6.2          25.8       0\n",
            "94            1.1          24.0       0\n",
            "\n",
            "[95 rows x 3 columns]\n"
          ],
          "name": "stdout"
        },
        {
          "output_type": "display_data",
          "data": {
            "image/png": "[encoded data removed]",
            "text/plain": [
              "<Figure size 402.375x360 with 6 Axes>"
            ]
          },
          "metadata": {
            "tags": [],
            "needs_background": "light"
          }
        },
        {
          "output_type": "stream",
          "text": [
            "[[ 1.000e-01  2.550e+01  1.000e+00]\n",
            " [ 1.600e+00  2.420e+01  1.000e+00]\n",
            " [ 0.000e+00  2.410e+01  1.000e+00]\n",
            " [ 2.200e+00  2.450e+01  1.000e+00]\n",
            " [ 2.900e+00  2.350e+01  1.000e+00]\n",
            " [ 4.760e+01  1.870e+01  1.000e+00]\n",
            " [ 1.150e+01  2.030e+01  1.000e+00]\n",
            " [ 0.000e+00  2.600e+01  1.000e+00]\n",
            " [ 2.910e+01  2.400e+01  1.000e+00]\n",
            " [ 3.600e+00  2.380e+01  1.000e+00]\n",
            " [ 0.000e+00  2.500e+01  1.000e+00]\n",
            " [ 1.150e+01  2.370e+01  1.000e+00]\n",
            " [ 1.031e+02  2.110e+01  1.000e+00]\n",
            " [ 2.900e+00  2.250e+01  1.000e+00]\n",
            " [ 2.200e+00  2.430e+01  1.000e+00]\n",
            " [ 4.000e-01  2.430e+01  1.000e+00]\n",
            " [ 5.010e+01  2.370e+01  1.000e+00]\n",
            " [ 1.000e-01  2.530e+01  1.000e+00]\n",
            " [ 1.500e+00  2.620e+01  1.000e+00]\n",
            " [ 3.910e+01  2.530e+01  1.000e+00]\n",
            " [ 3.140e+01  2.490e+01  1.000e+00]\n",
            " [ 1.026e+02  2.500e+01  1.000e+00]\n",
            " [ 3.900e+00  2.700e+01  1.000e+00]\n",
            " [ 1.850e+01  2.650e+01  1.000e+00]\n",
            " [ 7.570e+01  2.410e+01  1.000e+00]\n",
            " [ 0.000e+00  2.430e+01  1.000e+00]\n",
            " [ 1.910e+01  2.420e+01  1.000e+00]\n",
            " [ 5.030e+01  2.490e+01  1.000e+00]\n",
            " [ 4.460e+01  2.650e+01  1.000e+00]\n",
            " [ 9.700e+01  2.460e+01  1.000e+00]\n",
            " [ 6.900e+01  2.610e+01  1.000e+00]\n",
            " [ 1.000e-01  2.470e+01  1.000e+00]\n",
            " [ 3.760e+01  2.230e+01  1.000e+00]\n",
            " [ 1.330e+01  2.160e+01  1.000e+00]\n",
            " [ 2.100e+00  2.180e+01  1.000e+00]\n",
            " [ 1.190e+01  2.380e+01  1.000e+00]\n",
            " [ 6.470e+01  2.010e+01  1.000e+00]\n",
            " [ 8.700e+00  2.710e+01  0.000e+00]\n",
            " [ 1.360e+01  2.730e+01  0.000e+00]\n",
            " [ 1.360e+01  2.680e+01  0.000e+00]\n",
            " [ 4.250e+01  2.680e+01  0.000e+00]\n",
            " [ 3.330e+01  2.430e+01  0.000e+00]\n",
            " [ 2.980e+01  2.270e+01  0.000e+00]\n",
            " [ 6.400e+00  2.170e+01  0.000e+00]\n",
            " [ 1.300e+00  2.210e+01  0.000e+00]\n",
            " [ 3.900e+00  2.280e+01  0.000e+00]\n",
            " [ 5.700e+00  2.020e+01  0.000e+00]\n",
            " [ 3.830e+01  1.960e+01  0.000e+00]\n",
            " [ 1.800e+00  3.100e+00  0.000e+00]\n",
            " [ 4.630e+01  6.300e+00  0.000e+00]\n",
            " [ 1.160e+01  2.400e+00  0.000e+00]\n",
            " [ 6.000e-01  1.900e+00  0.000e+00]\n",
            " [ 1.700e+00 -1.600e+00  0.000e+00]\n",
            " [ 6.700e+00  7.400e+00  0.000e+00]\n",
            " [ 2.000e+00  9.800e+00  0.000e+00]\n",
            " [ 1.340e+01 -1.400e+00  0.000e+00]\n",
            " [ 4.200e+00  6.700e+00  0.000e+00]\n",
            " [ 3.100e+00  4.000e+00  0.000e+00]\n",
            " [ 1.660e+01  6.700e+00  0.000e+00]\n",
            " [ 3.900e+00  4.500e+00  0.000e+00]\n",
            " [ 1.180e+01  6.400e+00  0.000e+00]\n",
            " [ 0.000e+00  1.190e+01  0.000e+00]\n",
            " [ 0.000e+00  1.880e+01  0.000e+00]\n",
            " [ 0.000e+00  1.690e+01  0.000e+00]\n",
            " [ 0.000e+00  1.410e+01  0.000e+00]\n",
            " [ 1.360e+01  1.360e+01  0.000e+00]\n",
            " [ 1.700e+00  1.370e+01  0.000e+00]\n",
            " [ 5.000e-01  1.080e+01  0.000e+00]\n",
            " [ 0.000e+00  5.100e+00  0.000e+00]\n",
            " [ 8.690e+01  9.300e+00  0.000e+00]\n",
            " [ 0.000e+00  1.360e+01  0.000e+00]\n",
            " [ 0.000e+00  5.600e+00  0.000e+00]\n",
            " [ 2.900e+00  2.400e+00  0.000e+00]\n",
            " [ 2.000e-01 -1.100e+00  0.000e+00]\n",
            " [ 1.300e+00 -2.100e+00  0.000e+00]\n",
            " [ 2.000e-01  6.700e+00  0.000e+00]\n",
            " [ 1.900e+00  1.000e-01  0.000e+00]\n",
            " [ 1.030e+01  1.250e+01  0.000e+00]\n",
            " [ 2.300e+00  1.230e+01  0.000e+00]\n",
            " [ 2.440e+01  1.990e+01  0.000e+00]\n",
            " [ 1.300e+00  1.420e+01  0.000e+00]\n",
            " [ 3.400e+00  1.440e+01  0.000e+00]\n",
            " [ 7.000e-01  1.650e+01  0.000e+00]\n",
            " [ 1.200e+01  1.430e+01  0.000e+00]\n",
            " [ 2.500e+00  1.610e+01  0.000e+00]\n",
            " [ 2.980e+01  1.670e+01  0.000e+00]\n",
            " [ 1.910e+01  1.910e+01  0.000e+00]\n",
            " [ 1.450e+01  1.710e+01  0.000e+00]\n",
            " [ 1.500e+00  1.620e+01  0.000e+00]\n",
            " [ 1.000e+00  2.120e+01  0.000e+00]\n",
            " [ 4.000e-01  1.970e+01  0.000e+00]\n",
            " [ 2.000e+00  1.790e+01  0.000e+00]\n",
            " [ 2.000e-01  2.190e+01  0.000e+00]\n",
            " [ 6.200e+00  2.580e+01  0.000e+00]\n",
            " [ 1.100e+00  2.400e+01  0.000e+00]]\n",
            "<class 'numpy.ndarray'>\n"
          ],
          "name": "stdout"
        }
      ]
    },
    {
      "cell_type": "code",
      "metadata": {
        "id": "nO4tZ6q6i7Ks"
      },
      "source": [
        ""
      ],
      "execution_count": null,
      "outputs": []
    }
  ]
}